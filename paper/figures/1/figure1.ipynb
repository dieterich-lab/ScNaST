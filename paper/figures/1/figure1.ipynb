{
 "cells": [
  {
   "cell_type": "markdown",
   "id": "9818bc45-143d-42b3-bb8d-dca903cd4c01",
   "metadata": {},
   "source": [
    "# Figure 1\n",
    "___"
   ]
  },
  {
   "cell_type": "code",
   "execution_count": 13,
   "id": "1ff0ebc1-ba58-4dfd-bded-ae9e0c7e1f74",
   "metadata": {},
   "outputs": [],
   "source": [
    "library(reshape2)\n",
    "library(dplyr)\n",
    "\n",
    "library(ggplot2)\n",
    "# library(cowplot)"
   ]
  },
  {
   "cell_type": "code",
   "execution_count": 7,
   "id": "2d2d4b51-0eea-4adb-9325-8dec1491f5aa",
   "metadata": {},
   "outputs": [],
   "source": [
    "parent <- '/prj/Florian_Leuschner_spatial/analysis/Nanopore/' # change this path!\n",
    "config <- yaml::yaml.load_file(file.path(parent, 'ScNaST', 'workflow', 'config.yaml', fsep=.Platform$file.sep))\n",
    "\n",
    "local <- getwd() # you might have to adjust this path to make the local files visible"
   ]
  },
  {
   "cell_type": "markdown",
   "id": "2ad7bcbf-5238-4a0a-820d-75862d81dde7",
   "metadata": {},
   "source": [
    "Nanopore saturation\n",
    "---\n",
    "\n",
    "We used [RSeQC](http://rseqc.sourceforge.net/) with default parameters and `-r gffcmp.multi_exons.annotated.bed`. The gene model to annotate splicing junctions is converted to BED format from the **ScNaST** *de novo* annotation.\n"
   ]
  },
  {
   "cell_type": "code",
   "execution_count": 10,
   "id": "bfcf7be4-c091-4920-8cf4-a15b53d3a30a",
   "metadata": {},
   "outputs": [
    {
     "name": "stderr",
     "output_type": "stream",
     "text": [
      "`summarise()` has grouped output by 'V1'. You can override using the `.groups` argument.\n"
     ]
    }
   ],
   "source": [
    "data <- read.table(file.path(local, 'saturation.txt', fsep=.Platform$file.sep))\n",
    "percent_reads <- data[1,2:ncol(data)]\n",
    "data$V1[grep('known', data$V1)] <- 'Known junctions'\n",
    "data$V1[grep('all', data$V1)] <- 'All junctions'\n",
    "data <- data[grep('novel', data$V1, invert=T),]\n",
    "data$V1 <- factor(data$V1, levels=c('All junctions', 'Known junctions'))\n",
    "\n",
    "f1 <- data %>%\n",
    "    `[`(-1,) %>%\n",
    "    melt(id.vars='V1') %>%\n",
    "    mutate(percent_reads=as.numeric(rep(percent_reads, each=8))) %>%\n",
    "    mutate(value=value/1000) %>%\n",
    "        group_by(V1, percent_reads) %>%\n",
    "      summarise( \n",
    "        n=n(),\n",
    "        mean=mean(value),\n",
    "        sd=sd(value)\n",
    "      ) %>%\n",
    "      mutate( se=sd/sqrt(n))  %>%\n",
    "      mutate( ic=se * qt((1-0.05)/2 + .5, n-1)) %>%\n",
    "        ggplot(aes(x=percent_reads, y=mean, color=V1)) + \n",
    "            geom_errorbar(aes(ymin=mean-se, ymax=mean+se), width=.1) +\n",
    "            geom_line(size=1.25) + \n",
    "            scale_color_grey(start=.75, end=0) +\n",
    "                labs(x=\"Percent of total reads\", y=\"Spliced junctions (x1000)\") + \n",
    "                theme_minimal() +\n",
    "                theme(legend.title = element_blank(),\n",
    "                      legend.text=element_text(size=18),\n",
    "                      legend.position = \"top\",\n",
    "                      axis.text = element_text(size = 18),\n",
    "                      axis.title.x = element_text(size = 18),\n",
    "                      axis.title.y = element_text(size = 18),\n",
    "                      panel.grid.minor.x = element_blank(),\n",
    "                      panel.grid.minor.y = element_blank())"
   ]
  },
  {
   "cell_type": "markdown",
   "id": "791c8bee-12fd-44f2-823d-7ca86bfa0ffa",
   "metadata": {},
   "source": [
    "Nanopore/Illumina read coverage\n",
    "---\n",
    "\n",
    "We used [RSeQC](http://rseqc.sourceforge.net/) with default parameters. For Nanopore, we used `-r gffcmp.multi_exons.annotated.bed`, as above. For illumina, we used the default CellRanger annotations (`mm10-2020-A_build` converted to BED format)."
   ]
  },
  {
   "cell_type": "code",
   "execution_count": 11,
   "id": "118b15bb-52b6-4b83-81ac-ebc36b1cf1ea",
   "metadata": {},
   "outputs": [
    {
     "name": "stderr",
     "output_type": "stream",
     "text": [
      "`summarise()` has grouped output by 'sample'. You can override using the `.groups` argument.\n"
     ]
    }
   ],
   "source": [
    "data <- read.table(file.path(local, 'coverage.txt', fsep=.Platform$file.sep))\n",
    "data <- data[2:nrow(data),1:ncol(data)]\n",
    "samples <- data[,1]\n",
    "samples[grep('Nanopore', samples)] <- 'Nanopore'\n",
    "samples[grep('Illumina', samples)] <- 'Illumina'\n",
    "\n",
    "f2 <- t(apply(data[,2:ncol(data)], 1, function(x) {\n",
    "    (x - min(x))/(max(x)-min(x))\n",
    "} )) %>% data.frame() %>%\n",
    "    mutate(sample=samples) %>%\n",
    "    melt(id.vars='sample') %>%\n",
    "    mutate(variable = rep(1:100, each=length(samples))) %>%\n",
    "        group_by(sample, variable) %>%\n",
    "      summarise( \n",
    "        n=n(),\n",
    "        mean=mean(value),\n",
    "        sd=sd(value)\n",
    "      ) %>%\n",
    "      mutate( se=sd/sqrt(n))  %>%\n",
    "      mutate( ic=se * qt((1-0.05)/2 + .5, n-1)) %>%\n",
    "        ggplot(aes(x=variable, y=mean, color=sample)) + \n",
    "                geom_errorbar(aes(ymin=mean-se, ymax=mean+se), width=.1) +\n",
    "                geom_line(size=1.25) +\n",
    "                scale_color_grey(start=.75, end=0) +\n",
    "                labs(x=\"Transcript percentile (from 5' to 3')\", y=\"Normalized coverage\") + \n",
    "                theme_minimal() +\n",
    "                theme(legend.title = element_blank(),\n",
    "                      legend.text=element_text(size=18),\n",
    "                      legend.position = \"top\",\n",
    "                      axis.text = element_text(size = 18),\n",
    "                      axis.title.x = element_text(size = 18),\n",
    "                      axis.title.y = element_text(size = 18),\n",
    "                      panel.grid.minor.x = element_blank(),\n",
    "                      panel.grid.minor.y = element_blank())"
   ]
  },
  {
   "cell_type": "markdown",
   "id": "8de80681-99b9-4918-86a8-9ffb503aeda0",
   "metadata": {},
   "source": [
    "Summary of Nanopore reads identified by ScNapBar at each processing step\n",
    "---\n"
   ]
  },
  {
   "cell_type": "code",
   "execution_count": 12,
   "id": "4636d6e1-3c69-49fd-9237-6cf279dc41ce",
   "metadata": {},
   "outputs": [],
   "source": [
    "# prepare data for plotting\n",
    "df <- purrr::map2(config$samples, names(config$samples), function(.x, .y) {\n",
    "    log <- file.path(dirname(.x), 'real.log', fsep=.Platform$file.sep)\n",
    "    label <- file.path(dirname(.x), 'real.label', fsep=.Platform$file.sep)\n",
    "    # total reads\n",
    "    data <- dirname(dirname(.x))\n",
    "    name <- paste(unlist(strsplit(basename(.x), '.', fixed=T))[1], 'fastq.gz', sep='.')\n",
    "    total <- system(paste0(\"awk '{s++}END{print s/4}' \", file.path(data, 'data', name, fsep=.Platform$file.sep)), intern=TRUE)\n",
    "    # assigned barcodes\n",
    "    assigned <- system(paste0('wc -l ', label), intern=TRUE)\n",
    "    # scNapBar log\n",
    "    x <- read.table(log, sep='\\t')\n",
    "    x <- rbind(c('Total reads', total), x)\n",
    "    x <- rbind(x, c('Assigned to barcode', unlist(strsplit(assigned, ' '))[1]))\n",
    "    x[,2] <- as.integer(x[,2])\n",
    "    x <- mutate(x, Assigned=V2/lag(V2)*100)\n",
    "    # x <- x[-1,]\n",
    "    # add sample name\n",
    "    x$Sample <- toupper(substr(.y, nchar(.y), nchar(.y)))\n",
    "    x\n",
    "})\n",
    "df <- do.call(\"rbind\", df)\n",
    "df$Sample <-  factor(df$Sample, levels=rev(c('A', 'B', 'C', 'D')))\n",
    "df$Steps <- factor(df[,1], levels=rev(c('Total reads', 'Aligned to genome', 'Aligned to adapter', 'Aligned to barcode', 'Assigned to barcode')))\n",
    "\n",
    "x <- df[,c(1,2,4,5)]\n",
    "x <- x %>%\n",
    "  group_by(Steps) %>%\n",
    "  summarise( \n",
    "    n=n(),\n",
    "    mean=mean(V2),\n",
    "    sd=sd(V2)\n",
    "  ) %>%\n",
    "  mutate( se=sd/sqrt(n))  %>%\n",
    "  mutate( ic=se * qt((1-0.05)/2 + .5, n-1))\n",
    "f3 <- ggplot(x) +\n",
    "  geom_bar(aes(x=Steps, y=mean, fill=Steps), stat=\"identity\", color=\"black\", alpha=0.5) +\n",
    "  geom_errorbar(aes(x=Steps, ymin=mean-se, ymax=mean+se), width=0.1, colour=\"black\", alpha=0.9, size=1) +\n",
    "  scale_fill_grey(start=1, end=0) +\n",
    "  coord_flip() + \n",
    "  labs(x=\"\", y=\"Reads\") + \n",
    "    theme_minimal() +\n",
    "    theme(legend.position = 'None',\n",
    "          panel.grid.major.y = element_blank(),\n",
    "          axis.text = element_text(size = 18),\n",
    "          axis.title.x = element_text(size = 18),\n",
    "          axis.title.y = element_blank())"
   ]
  },
  {
   "cell_type": "code",
   "execution_count": 34,
   "id": "10feaf74-2eb9-48d5-82dd-0d8834e01075",
   "metadata": {},
   "outputs": [],
   "source": [
    "# combine 3 figures into bottom panel\n",
    "p <- ggpubr::ggarrange(f1, f2, f3, \n",
    "          labels = c(\"B\", \"C\", \"D\"),\n",
    "          ncol = 3, nrow = 1, font.label = list(size = 20))\n",
    "filen <- file.path(parent, 'ScNaST', 'paper', 'figures', '1', fsep=.Platform$file.sep)\n",
    "filen <- file.path(filen, 'panel2.pdf')\n",
    "ggsave(filen, width=24, height=8, dpi=1200)\n"
   ]
  },
  {
   "cell_type": "code",
   "execution_count": 35,
   "id": "8c2d5ef3-275a-44b2-abc0-6cfaad736efb",
   "metadata": {},
   "outputs": [
    {
     "data": {
      "text/plain": [
       "R version 4.1.1 (2021-08-10)\n",
       "Platform: x86_64-pc-linux-gnu (64-bit)\n",
       "Running under: Debian GNU/Linux 10 (buster)\n",
       "\n",
       "Matrix products: default\n",
       "BLAS:   /beegfs/biosw/R/4.1.1_deb10/lib/R/lib/libRblas.so\n",
       "LAPACK: /beegfs/biosw/R/4.1.1_deb10/lib/R/lib/libRlapack.so\n",
       "\n",
       "locale:\n",
       " [1] LC_CTYPE=en_US.UTF-8       LC_NUMERIC=C              \n",
       " [3] LC_TIME=en_US.UTF-8        LC_COLLATE=en_US.UTF-8    \n",
       " [5] LC_MONETARY=en_US.UTF-8    LC_MESSAGES=en_US.UTF-8   \n",
       " [7] LC_PAPER=en_US.UTF-8       LC_NAME=C                 \n",
       " [9] LC_ADDRESS=C               LC_TELEPHONE=C            \n",
       "[11] LC_MEASUREMENT=en_US.UTF-8 LC_IDENTIFICATION=C       \n",
       "\n",
       "attached base packages:\n",
       "[1] stats     graphics  grDevices utils     datasets  methods   base     \n",
       "\n",
       "other attached packages:\n",
       "[1] cowplot_1.1.1  reshape2_1.4.4 dplyr_1.0.7    ggplot2_3.3.5 \n",
       "\n",
       "loaded via a namespace (and not attached):\n",
       " [1] pbdZMQ_0.3-6     tidyselect_1.1.1 repr_1.1.3       purrr_0.3.4     \n",
       " [5] carData_3.0-4    colorspace_2.0-2 vctrs_0.3.8      generics_0.1.1  \n",
       " [9] htmltools_0.5.2  yaml_2.3.5       base64enc_0.1-3  utf8_1.2.2      \n",
       "[13] rlang_1.0.0      pillar_1.6.5     ggpubr_0.4.0     glue_1.6.1      \n",
       "[17] withr_2.4.3      DBI_1.1.1        uuid_1.0-3       lifecycle_1.0.1 \n",
       "[21] plyr_1.8.6       stringr_1.4.0    munsell_0.5.0    ggsignif_0.6.3  \n",
       "[25] gtable_0.3.0     evaluate_0.14    labeling_0.4.2   fastmap_1.1.0   \n",
       "[29] fansi_1.0.2      broom_0.7.11     IRdisplay_1.0    Rcpp_1.0.7      \n",
       "[33] scales_1.1.1     backports_1.4.1  IRkernel_1.2     magick_2.7.3    \n",
       "[37] jsonlite_1.7.2   abind_1.4-5      farver_2.1.0     digest_0.6.29   \n",
       "[41] stringi_1.7.6    rstatix_0.7.0    grid_4.1.1       cli_3.1.1       \n",
       "[45] tools_4.1.1      magrittr_2.0.2   tibble_3.1.6     crayon_1.4.2    \n",
       "[49] tidyr_1.1.4      car_3.0-12       pkgconfig_2.0.3  ellipsis_0.3.2  \n",
       "[53] assertthat_0.2.1 R6_2.5.1         compiler_4.1.1  "
      ]
     },
     "metadata": {},
     "output_type": "display_data"
    }
   ],
   "source": [
    "sessionInfo()"
   ]
  },
  {
   "cell_type": "code",
   "execution_count": null,
   "id": "dc3e4aa9-10a4-48ad-ade9-56a966133c94",
   "metadata": {},
   "outputs": [],
   "source": []
  }
 ],
 "metadata": {
  "kernelspec": {
   "display_name": "R4.1.1",
   "language": "R",
   "name": "ir411"
  },
  "language_info": {
   "codemirror_mode": "r",
   "file_extension": ".r",
   "mimetype": "text/x-r-source",
   "name": "R",
   "pygments_lexer": "r",
   "version": "4.1.1"
  }
 },
 "nbformat": 4,
 "nbformat_minor": 5
}
