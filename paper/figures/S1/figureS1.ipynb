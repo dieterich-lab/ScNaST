{
 "cells": [
  {
   "cell_type": "markdown",
   "id": "9818bc45-143d-42b3-bb8d-dca903cd4c01",
   "metadata": {},
   "source": [
    "# Supplementary figure 1\n",
    "___"
   ]
  },
  {
   "cell_type": "code",
   "execution_count": 2,
   "id": "1ff0ebc1-ba58-4dfd-bded-ae9e0c7e1f74",
   "metadata": {},
   "outputs": [],
   "source": [
    "library(reshape2)\n",
    "library(dplyr)\n",
    "\n",
    "library(ggplot2)\n",
    "# library(cowplot)"
   ]
  },
  {
   "cell_type": "code",
   "execution_count": 3,
   "id": "d76825d9-8893-4a3e-b9de-b9976a366c98",
   "metadata": {},
   "outputs": [],
   "source": [
    "parent <- '/prj/Florian_Leuschner_spatial/analysis/Nanopore/' # change this path!\n",
    "config <- yaml::yaml.load_file(file.path(parent, 'ScNaST', 'workflow', 'config.yaml', fsep=.Platform$file.sep))\n",
    "\n",
    "local <- getwd() # you might have to adjust this path to make the local files visible"
   ]
  },
  {
   "cell_type": "markdown",
   "id": "8de80681-99b9-4918-86a8-9ffb503aeda0",
   "metadata": {},
   "source": [
    "Number of the Nanopore reads identified by ScNapBar at each processing step (details).\n",
    "---\n"
   ]
  },
  {
   "cell_type": "code",
   "execution_count": 4,
   "id": "df58e617-5688-4169-b8c0-595c5d10d489",
   "metadata": {},
   "outputs": [],
   "source": [
    "# prepare data for plotting\n",
    "df <- purrr::map2(config$samples, names(config$samples), function(.x, .y) {\n",
    "    log <- file.path(dirname(.x), 'real.log', fsep=.Platform$file.sep)\n",
    "    label <- file.path(dirname(.x), 'real.label', fsep=.Platform$file.sep)\n",
    "    # total reads\n",
    "    data <- dirname(dirname(.x))\n",
    "    name <- paste(unlist(strsplit(basename(.x), '.', fixed=T))[1], 'fastq.gz', sep='.')\n",
    "    total <- system(paste0(\"awk '{s++}END{print s/4}' \", file.path(data, 'data', name, fsep=.Platform$file.sep)), intern=TRUE)\n",
    "    # assigned barcodes\n",
    "    assigned <- system(paste0('wc -l ', label), intern=TRUE)\n",
    "    # scNapBar log\n",
    "    x <- read.table(log, sep='\\t')\n",
    "    x <- rbind(c('Total reads', total), x)\n",
    "    x <- rbind(x, c('Assigned to barcode', unlist(strsplit(assigned, ' '))[1]))\n",
    "    x[,2] <- as.integer(x[,2])\n",
    "    x <- mutate(x, Assigned=V2/lag(V2)*100)\n",
    "    # x <- x[-1,]\n",
    "    # add sample name\n",
    "    x$Sample <- toupper(substr(.y, nchar(.y), nchar(.y)))\n",
    "    x\n",
    "})\n",
    "df <- do.call(\"rbind\", df)\n",
    "df$Sample <-  factor(df$Sample, levels=rev(c('A', 'B', 'C', 'D')))\n",
    "df$Steps <- factor(df[,1], levels=rev(c('Total reads', 'Aligned to genome', 'Aligned to adapter', 'Aligned to barcode', 'Assigned to barcode')))\n",
    "\n",
    "\n",
    "x <- na.omit(df)\n",
    "x <- droplevels(x)\n",
    "f1 <- ggplot(x, aes(x=Sample, y=Assigned, fill=Steps)) + \n",
    "    geom_bar(stat=\"identity\", position=position_dodge()) +\n",
    "    scale_fill_grey(start=0.8, end=0.2) +\n",
    "    coord_flip() + \n",
    "    labs(x=\"\", y=\"% Assignment per sample\") + \n",
    "    geom_text(aes(label=V2), position=position_dodge(width=0.9), hjust=1, color = case_when(\n",
    "      x$Steps == 'Aligned to genome' ~ \"white\",\n",
    "      x$Steps != 'Aligned to genome' ~ \"black\"\n",
    "    )) +\n",
    "    guides(fill = guide_legend(reverse=T,nrow=2)) + \n",
    "    theme_minimal() +\n",
    "    theme(legend.title = element_blank(),\n",
    "          legend.text=element_text(size=15),\n",
    "          legend.position = \"top\",\n",
    "          panel.grid.major.y = element_blank(),\n",
    "          axis.text = element_text(size = 18),\n",
    "          axis.title.x = element_text(size = 18))\n",
    "\n"
   ]
  },
  {
   "cell_type": "markdown",
   "id": "bb3ebc61-afab-4a7e-aab1-7457fdb949cf",
   "metadata": {},
   "source": [
    "Reads or alignment at each step (ScNaST)\n",
    "---"
   ]
  },
  {
   "cell_type": "code",
   "execution_count": 5,
   "id": "f4ea9137-b192-4232-9ab6-6d43882896f9",
   "metadata": {},
   "outputs": [],
   "source": [
    "data <- read.table(file.path(local, 'assignment.txt', fsep=.Platform$file.sep))\n",
    "data$V1 <- factor(data$V1, levels=rev(c('A', 'B', 'C', 'D')))\n",
    "\n",
    "f2 <- data %>% melt(id.vars=c('V2', 'V1')) %>% na.omit() %>%\n",
    "    ggplot(aes(y=V1, x=value, fill=V2)) +\n",
    "    geom_boxplot(outlier.size=1) +\n",
    "    labs(x=\"Reads or alignments per barcode (x1000)\", y=\"\") + \n",
    "    scale_x_continuous(labels=function(x)x/1000) + \n",
    "    scale_fill_grey(start=1, end=.4) +\n",
    "    guides(fill = guide_legend(reverse=T, nrow=1)) + \n",
    "    theme_minimal() +\n",
    "    theme(legend.title = element_blank(),\n",
    "          legend.text=element_text(size=15),\n",
    "          legend.position = \"top\",\n",
    "          panel.grid.major.y = element_blank(),\n",
    "          axis.text = element_text(size = 18),\n",
    "          axis.title.x = element_text(size = 18))"
   ]
  },
  {
   "cell_type": "code",
   "execution_count": null,
   "id": "fdb20386-d991-4d76-a3a4-734a5a0379ad",
   "metadata": {},
   "outputs": [],
   "source": []
  },
  {
   "cell_type": "code",
   "execution_count": null,
   "id": "9a2b2a78-c7cf-4cb5-9fa3-8fe81da5c48d",
   "metadata": {},
   "outputs": [],
   "source": []
  },
  {
   "cell_type": "code",
   "execution_count": 6,
   "id": "5418f10b-bcc2-48d2-975b-7f0a94f4f9e0",
   "metadata": {},
   "outputs": [
    {
     "data": {
      "image/png": "[encoded data removed]",
      "text/plain": [
       "plot without title"
      ]
     },
     "metadata": {
      "image/png": {
       "height": 420,
       "width": 420
      }
     },
     "output_type": "display_data"
    }
   ],
   "source": [
    "f1"
   ]
  },
  {
   "cell_type": "code",
   "execution_count": 7,
   "id": "381de8a1-bfcb-4326-b58e-e5c1306e7c8c",
   "metadata": {},
   "outputs": [
    {
     "data": {
      "image/png": "[encoded data removed]",
      "text/plain": [
       "plot without title"
      ]
     },
     "metadata": {
      "image/png": {
       "height": 420,
       "width": 420
      }
     },
     "output_type": "display_data"
    }
   ],
   "source": [
    "f2"
   ]
  },
  {
   "cell_type": "code",
   "execution_count": null,
   "id": "a3eb7bc6-201e-4f49-b1aa-fd4d494bc1ae",
   "metadata": {},
   "outputs": [],
   "source": []
  },
  {
   "cell_type": "code",
   "execution_count": null,
   "id": "d921f694-554f-461e-a809-9a570f828055",
   "metadata": {},
   "outputs": [],
   "source": []
  },
  {
   "cell_type": "code",
   "execution_count": null,
   "id": "bcfc09c2-1197-4be8-9171-11cf2357c16c",
   "metadata": {},
   "outputs": [],
   "source": []
  },
  {
   "cell_type": "code",
   "execution_count": null,
   "id": "4c866d49-7c7a-4e3f-b3e9-83ef09ca47b4",
   "metadata": {},
   "outputs": [],
   "source": []
  },
  {
   "cell_type": "code",
   "execution_count": null,
   "id": "eaadeade-f371-4ac6-b11a-80c3b2a9e6ea",
   "metadata": {},
   "outputs": [],
   "source": []
  },
  {
   "cell_type": "code",
   "execution_count": null,
   "id": "032d0f95-42b8-4c94-b7a7-f253525732a9",
   "metadata": {},
   "outputs": [],
   "source": [
    "filen = '/prj/Florian_Leuschner_spatial/analysis/Illumina/data/clusters_bbknn.h5ad'\n",
    "illumina = sc.read_h5ad(filen)\n",
    "\n",
    "adata\n",
    "illumina"
   ]
  },
  {
   "cell_type": "code",
   "execution_count": null,
   "id": "d4df1a0f-f3ff-41c8-8240-7c425d3bad51",
   "metadata": {},
   "outputs": [],
   "source": [
    "# restrict Nanopore to common set of barcodes for comparison below (counts, etc.), also look at the set of Nanopore-only barcodes\n",
    "\n",
    "# DECIDE WHICH ONE...\n",
    "# we should reformat this into the h5 object \n",
    "adata.obs_names = adata.obs_names.str.replace('H61211a', 'A1')\n",
    "adata.obs_names = adata.obs_names.str.replace('H61211b', 'B1')\n",
    "adata.obs_names = adata.obs_names.str.replace('H61211c', 'C1')\n",
    "adata.obs_names = adata.obs_names.str.replace('H61211d', 'D1')\n",
    "\n",
    "# common barcoded\n",
    "idx = illumina.obs.reindex(adata.obs.index).dropna().index\n",
    "# nanopore only\n",
    "nanopore_only_barcodes = adata.obs_names[~adata.obs_names.isin(idx)]\n",
    "nanopore = adata[adata.obs_names.isin(nanopore_only_barcodes), :]\n",
    "# common AnnData for Illumina and Nanopore\n",
    "illumina_matching = illumina[illumina.obs_names.isin(idx), :]\n",
    "adata_matching = adata[adata.obs_names.isin(idx), :]\n"
   ]
  },
  {
   "cell_type": "code",
   "execution_count": null,
   "id": "92f4a1bb-8c68-422f-8f1c-9f93a79ed4b0",
   "metadata": {},
   "outputs": [],
   "source": [
    "a = illumina_matching.obs[['n_counts', 'n_genes', 'pct_mt']].copy()\n",
    "a.rename(columns={'n_counts': 'Illumina counts (genes)', 'n_genes': 'Illumina genes', 'pct_mt': 'Illumina MT pct'}, inplace=True)\n",
    "\n",
    "b = adata_matching.obs[['n_counts', 'n_transcripts', 'pct_mt']].copy()\n",
    "b.rename(columns={'n_counts': 'Nanopore counts (transcripts)', 'n_transcripts': 'Nanopore transcripts', 'pct_mt': 'Nanopore MT pct'}, inplace=True)\n",
    "\n",
    "data = pd.concat([a, b], axis=1)"
   ]
  },
  {
   "cell_type": "code",
   "execution_count": null,
   "id": "ba3a2c4b-e1f9-4cf6-b1d5-77ac0e6632d0",
   "metadata": {},
   "outputs": [],
   "source": [
    "fig, (ax1, ax2, ax3) = plt.subplots(1, 3, figsize=(18, 6), sharey=False)\n",
    "\n",
    "slope, intercept, r_value, pv, se = stats.linregress(data['Illumina counts (genes)'],data['Nanopore counts (transcripts)'])\n",
    "# sns.regplot(x=\"Illumina_counts\", y=\"Nanopore_counts\", data=data, \n",
    "#       ci=None, label=\"y={0:.1f}x+{1:.1f}\".format(slope, intercept), color='k', scatter_kws={'s':2}).legend(loc=\"best\")\n",
    "sns.regplot(x=\"Illumina counts (genes)\", y=\"Nanopore counts (transcripts)\", data=data, ax=ax1,\n",
    "      ci=None, label=\"R={0:.2}\\nP={1:.2}\".format(r_value, pv), color='k', scatter_kws={'s':2}).legend(loc=\"best\", frameon=False)\n",
    "\n",
    "leg = ax1.legend(handlelength=0, handletextpad=0, fancybox=False, frameon=False)\n",
    "for item in leg.legendHandles:\n",
    "    item.set_visible(False)\n",
    "    \n",
    "slope, intercept, r_value, pv, se = stats.linregress(data['Illumina genes'],data['Nanopore transcripts'])\n",
    "# sns.regplot(x=\"Illumina_counts\", y=\"Nanopore_counts\", data=data, \n",
    "#       ci=None, label=\"y={0:.1f}x+{1:.1f}\".format(slope, intercept), color='k', scatter_kws={'s':2}).legend(loc=\"best\")\n",
    "sns.regplot(x=\"Illumina genes\", y=\"Nanopore transcripts\", data=data, ax=ax2,\n",
    "      ci=None, label=\"R={0:.2}\\nP={1:.2}\".format(r_value, pv), color='k', scatter_kws={'s':2}).legend(loc=\"best\", frameon=False)\n",
    "\n",
    "leg = ax2.legend(handlelength=0, handletextpad=0, fancybox=False, frameon=False)\n",
    "for item in leg.legendHandles:\n",
    "    item.set_visible(False)\n",
    "    \n",
    "\n",
    "slope, intercept, r_value, pv, se = stats.linregress(data['Illumina MT pct'],data['Nanopore MT pct'])\n",
    "# sns.regplot(x=\"Illumina_counts\", y=\"Nanopore_counts\", data=data, \n",
    "#       ci=None, label=\"y={0:.1f}x+{1:.1f}\".format(slope, intercept), color='k', scatter_kws={'s':2}).legend(loc=\"best\")\n",
    "sns.regplot(x=\"Illumina MT pct\", y=\"Nanopore MT pct\", data=data, ax=ax3,\n",
    "      ci=None, label=\"R={0:.2}\\nP={1:.2}\".format(r_value, pv), color='k', scatter_kws={'s':2}).legend(loc=\"best\", frameon=False)\n",
    "\n",
    "leg = ax3.legend(handlelength=0, handletextpad=0, fancybox=False, frameon=False)\n",
    "for item in leg.legendHandles:\n",
    "    item.set_visible(False)\n",
    "    \n",
    "# filen = os.path.join(figloc, f\"Illumina_vs_Nanopore_scatter_{illumina_matching.shape[0]}matching_barcodes.png\")\n",
    "filen = os.path.join(outloc, 'results', 'figures', f\"Illumina_vs_Nanopore_scatter_{illumina_matching.shape[0]}matching_barcodes.pdf\")\n",
    "fig.savefig(filen, bbox_inches = \"tight\")"
   ]
  },
  {
   "cell_type": "code",
   "execution_count": null,
   "id": "a6c6d063-e3ee-4da2-9e8c-1d2e383824bf",
   "metadata": {},
   "outputs": [],
   "source": [
    "for lid1, lid2 in zip(['A1', 'B1', 'C1', 'D1'], ['H61211a', 'H61211b', 'H61211c', 'H61211d']):\n",
    "    \n",
    "    \n",
    "    a = illumina_matching.obs[illumina_matching.obs.library_id==lid1].copy()\n",
    "    a = a[['n_counts', 'n_genes', 'pct_mt']]\n",
    "    a.rename(columns={'n_counts': 'Illumina counts (genes)', 'n_genes': 'Illumina genes', 'pct_mt': 'Illumina MT pct'}, inplace=True)\n",
    "    \n",
    "    b = adata_matching.obs[adata_matching.obs.library_id==lid2].copy()\n",
    "    b = b[['n_counts', 'n_transcripts', 'pct_mt']]\n",
    "    b.rename(columns={'n_counts': 'Nanopore counts (transcripts)', 'n_transcripts': 'Nanopore transcripts', 'pct_mt': 'Nanopore MT pct'}, inplace=True)\n",
    "\n",
    "    data = pd.concat([a, b], axis=1)\n",
    "    \n",
    "    \n",
    "    fig, (ax1, ax2, ax3) = plt.subplots(1, 3, figsize=(18, 6), sharey=False)\n",
    "\n",
    "    slope, intercept, r_value, pv, se = stats.linregress(data['Illumina counts (genes)'],data['Nanopore counts (transcripts)'])\n",
    "    # sns.regplot(x=\"Illumina_counts\", y=\"Nanopore_counts\", data=data, \n",
    "    #       ci=None, label=\"y={0:.1f}x+{1:.1f}\".format(slope, intercept), color='k', scatter_kws={'s':2}).legend(loc=\"best\")\n",
    "    sns.regplot(x=\"Illumina counts (genes)\", y=\"Nanopore counts (transcripts)\", data=data, ax=ax1,\n",
    "          ci=None, label=\"R={0:.2}\\nP={1:.2}\".format(r_value, pv), color='k', scatter_kws={'s':2}).legend(loc=\"best\", frameon=False)\n",
    "\n",
    "    leg = ax1.legend(handlelength=0, handletextpad=0, fancybox=False, frameon=False)\n",
    "    for item in leg.legendHandles:\n",
    "        item.set_visible(False)\n",
    "\n",
    "    slope, intercept, r_value, pv, se = stats.linregress(data['Illumina genes'],data['Nanopore transcripts'])\n",
    "    # sns.regplot(x=\"Illumina_counts\", y=\"Nanopore_counts\", data=data, \n",
    "    #       ci=None, label=\"y={0:.1f}x+{1:.1f}\".format(slope, intercept), color='k', scatter_kws={'s':2}).legend(loc=\"best\")\n",
    "    sns.regplot(x=\"Illumina genes\", y=\"Nanopore transcripts\", data=data, ax=ax2,\n",
    "          ci=None, label=\"R={0:.2}\\nP={1:.2}\".format(r_value, pv), color='k', scatter_kws={'s':2}).legend(loc=\"best\", frameon=False)\n",
    "\n",
    "    leg = ax2.legend(handlelength=0, handletextpad=0, fancybox=False, frameon=False)\n",
    "    for item in leg.legendHandles:\n",
    "        item.set_visible(False)\n",
    "\n",
    "\n",
    "    slope, intercept, r_value, pv, se = stats.linregress(data['Illumina MT pct'],data['Nanopore MT pct'])\n",
    "    # sns.regplot(x=\"Illumina_counts\", y=\"Nanopore_counts\", data=data, \n",
    "    #       ci=None, label=\"y={0:.1f}x+{1:.1f}\".format(slope, intercept), color='k', scatter_kws={'s':2}).legend(loc=\"best\")\n",
    "    sns.regplot(x=\"Illumina MT pct\", y=\"Nanopore MT pct\", data=data, ax=ax3,\n",
    "          ci=None, label=\"R={0:.2}\\nP={1:.2}\".format(r_value, pv), color='k', scatter_kws={'s':2}).legend(loc=\"best\", frameon=False)\n",
    "\n",
    "    leg = ax3.legend(handlelength=0, handletextpad=0, fancybox=False, frameon=False)\n",
    "    for item in leg.legendHandles:\n",
    "        item.set_visible(False)\n",
    "\n",
    "    # filen = os.path.join(figloc, f\"Illumina_vs_Nanopore_scatter_{illumina_matching.shape[0]}matching_barcodes.png\")\n",
    "    filen = os.path.join(outloc, 'results', 'figures', f\"Illumina_vs_Nanopore_scatter_{lid1}.png\")\n",
    "    fig.savefig(filen, bbox_inches = \"tight\")\n",
    "    "
   ]
  },
  {
   "cell_type": "code",
   "execution_count": null,
   "id": "93ccf148-2da3-4fa7-94d3-3aa84c6ad9cd",
   "metadata": {},
   "outputs": [],
   "source": []
  },
  {
   "cell_type": "code",
   "execution_count": null,
   "id": "bb38e7f3-cd19-4e2c-a3cb-ff7ae2045537",
   "metadata": {},
   "outputs": [],
   "source": []
  }
 ],
 "metadata": {
  "kernelspec": {
   "display_name": "R4.1.1",
   "language": "R",
   "name": "ir411"
  },
  "language_info": {
   "codemirror_mode": "r",
   "file_extension": ".r",
   "mimetype": "text/x-r-source",
   "name": "R",
   "pygments_lexer": "r",
   "version": "4.1.1"
  }
 },
 "nbformat": 4,
 "nbformat_minor": 5
}
